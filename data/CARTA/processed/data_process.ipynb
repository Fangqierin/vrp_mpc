{
 "cells": [
  {
   "cell_type": "code",
   "execution_count": 9,
   "metadata": {},
   "outputs": [
    {
     "name": "stdout",
     "output_type": "stream",
     "text": [
      "CSV data has been saved as a .npy file.\n"
     ]
    }
   ],
   "source": [
    "import numpy as np\n",
    "\n",
    "# Load the CSV file into a NumPy array\n",
    "csv_file = \"/home/fangqil2/optimus_fix/src/policies/mpc/MPC_VRP/data/CARTA/processed/travel_time_matrix/travel_time_matrix.csv\"\n",
    "data = np.genfromtxt(csv_file, delimiter=',', skip_header=1)  # Set skip_header=1 if you have a header row\n",
    "\n",
    "# Save the data to a .npy file\n",
    "npy_file = \"/home/fangqil2/optimus_fix/src/policies/mpc/MPC_VRP/data/CARTA/processed/travel_time_matrix.npy\"\n",
    "np.save(npy_file, data)\n",
    "\n",
    "print(\"CSV data has been saved as a .npy file.\")"
   ]
  },
  {
   "cell_type": "code",
   "execution_count": null,
   "metadata": {},
   "outputs": [],
   "source": [
    "import pandas as pd\n",
    "import ast  # To safely evaluate the string representation of a list\n",
    "\n",
    "# Read the CSV file\n",
    "csv_file = \"/home/fangqil2/optimus_fix/src/policies/mpc/MPC_VRP/data/CARTA/processed/station_mapping_medium.csv\"\n",
    "df = pd.read_csv(csv_file)\n",
    "\n",
    "# Create a dictionary to store node_id to station_id mapping\n",
    "node_to_station = {}\n",
    "\n",
    "# Process each row and map node_id to station_id\n",
    "for _, row in df.iterrows():\n",
    "    station_id = row['station_id']\n",
    "    mapped_nodes = ast.literal_eval(row['mapped_nodes'])  # Convert string to list\n",
    "    for node_id in mapped_nodes:\n",
    "        node_to_station[node_id] = station_id\n",
    "\n",
    "# Save the dictionary as a pickle file\n",
    "pkl_file = \"/home/fangqil2/optimus_fix/src/policies/mpc/MPC_VRP/data/CARTA/processed/station_mapping_medium.pkl\"\n",
    "import pickle\n",
    "with open(pkl_file, 'wb') as f:\n",
    "    pickle.dump(node_to_station, f)\n",
    "\n",
    "print(\"Node to station mapping has been saved as a .pkl file.\")"
   ]
  }
 ],
 "metadata": {
  "kernelspec": {
   "display_name": "charger",
   "language": "python",
   "name": "python3"
  },
  "language_info": {
   "codemirror_mode": {
    "name": "ipython",
    "version": 3
   },
   "file_extension": ".py",
   "mimetype": "text/x-python",
   "name": "python",
   "nbconvert_exporter": "python",
   "pygments_lexer": "ipython3",
   "version": "3.10.12"
  }
 },
 "nbformat": 4,
 "nbformat_minor": 2
}
